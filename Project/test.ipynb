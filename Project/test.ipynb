{
 "cells": [
  {
   "cell_type": "markdown",
   "id": "1b70b34e",
   "metadata": {},
   "source": [
    "### Basic library imports"
   ]
  },
  {
   "cell_type": "code",
   "execution_count": 1,
   "id": "719d15af",
   "metadata": {},
   "outputs": [],
   "source": [
    "import re\n",
    "import os\n",
    "import pandas as pd\n",
    "import pytesseract\n",
    "from PIL import Image"
   ]
  },
  {
   "cell_type": "markdown",
   "id": "b8911e33",
   "metadata": {},
   "source": [
    "### Read Dataset"
   ]
  },
  {
   "cell_type": "code",
   "execution_count": 2,
   "id": "d3136aac",
   "metadata": {},
   "outputs": [],
   "source": [
    "DATASET_FOLDER = 'D:/Download/Gunjit_IIT BHU Downloads/Amazon ML Challnge/student_resource 3/dataset/'\n",
    "train = pd.read_csv(os.path.join(DATASET_FOLDER, 'train.csv'))\n",
    "test = pd.read_csv(os.path.join(DATASET_FOLDER, 'test.csv'))\n",
    "sample_test = pd.read_csv(os.path.join(DATASET_FOLDER, 'sample_test.csv'))\n",
    "sample_test_out = pd.read_csv(os.path.join(DATASET_FOLDER, 'sample_test_out.csv'))"
   ]
  },
  {
   "cell_type": "markdown",
   "id": "60ebd689",
   "metadata": {},
   "source": [
    "### Run Sanity check using src/sanity.py"
   ]
  },
  {
   "cell_type": "code",
   "execution_count": 3,
   "id": "81bb3988",
   "metadata": {},
   "outputs": [
    {
     "name": "stdout",
     "output_type": "stream",
     "text": [
      "Parsing successfull for file: ../dataset/sample_test_out.csv\n"
     ]
    }
   ],
   "source": [
    "!python sanity.py --test_filename ../dataset/sample_test.csv --output_filename ../dataset/sample_test_out.csv"
   ]
  },
  {
   "cell_type": "code",
   "execution_count": 4,
   "id": "5aa79459",
   "metadata": {},
   "outputs": [
    {
     "name": "stdout",
     "output_type": "stream",
     "text": [
      "Error: Invalid unit [lbs] found in 6.75 lbs. Allowed units: {'volt', 'fluid ounce', 'cup', 'pint', 'inch', 'kilowatt', 'pound', 'litre', 'kilogram', 'kilovolt', 'yard', 'cubic inch', 'ounce', 'millilitre', 'decilitre', 'milligram', 'ton', 'millivolt', 'watt', 'centimetre', 'cubic foot', 'millimetre', 'foot', 'microlitre', 'imperial gallon', 'gram', 'gallon', 'quart', 'centilitre', 'microgram', 'metre'}\n"
     ]
    }
   ],
   "source": [
    "!python sanity.py --test_filename ../dataset/sample_test.csv --output_filename ../dataset/sample_test_out_fail.csv"
   ]
  },
  {
   "cell_type": "markdown",
   "id": "dbe930a8",
   "metadata": {},
   "source": [
    "### Download images"
   ]
  },
  {
   "cell_type": "code",
   "execution_count": null,
   "id": "a3d1aad8",
   "metadata": {},
   "outputs": [],
   "source": [
    "from utils import download_images\n",
    "download_images(sample_test['image_link'], 'D:/Download/Gunjit_IIT BHU Downloads/Amazon ML Challnge/student_resource 3/images/')"
   ]
  },
  {
   "cell_type": "code",
   "execution_count": 3,
   "id": "89aaba53",
   "metadata": {},
   "outputs": [],
   "source": [
    "assert len(os.listdir('D:/Download/Gunjit_IIT BHU Downloads/Amazon ML Challnge/student_resource 3/images/')) > 0"
   ]
  },
  {
   "cell_type": "code",
   "execution_count": 4,
   "id": "90412ffe",
   "metadata": {},
   "outputs": [
    {
     "data": {
      "text/html": [
       "<div>\n",
       "<style scoped>\n",
       "    .dataframe tbody tr th:only-of-type {\n",
       "        vertical-align: middle;\n",
       "    }\n",
       "\n",
       "    .dataframe tbody tr th {\n",
       "        vertical-align: top;\n",
       "    }\n",
       "\n",
       "    .dataframe thead th {\n",
       "        text-align: right;\n",
       "    }\n",
       "</style>\n",
       "<table border=\"1\" class=\"dataframe\">\n",
       "  <thead>\n",
       "    <tr style=\"text-align: right;\">\n",
       "      <th></th>\n",
       "      <th>index</th>\n",
       "      <th>image_link</th>\n",
       "      <th>group_id</th>\n",
       "      <th>entity_name</th>\n",
       "    </tr>\n",
       "  </thead>\n",
       "  <tbody>\n",
       "    <tr>\n",
       "      <th>0</th>\n",
       "      <td>0</td>\n",
       "      <td>https://m.media-amazon.com/images/I/41-NCxNuBx...</td>\n",
       "      <td>658003</td>\n",
       "      <td>width</td>\n",
       "    </tr>\n",
       "    <tr>\n",
       "      <th>1</th>\n",
       "      <td>1</td>\n",
       "      <td>https://m.media-amazon.com/images/I/41-NCxNuBx...</td>\n",
       "      <td>658003</td>\n",
       "      <td>depth</td>\n",
       "    </tr>\n",
       "    <tr>\n",
       "      <th>2</th>\n",
       "      <td>2</td>\n",
       "      <td>https://m.media-amazon.com/images/I/417NJrPEk+...</td>\n",
       "      <td>939426</td>\n",
       "      <td>maximum_weight_recommendation</td>\n",
       "    </tr>\n",
       "    <tr>\n",
       "      <th>3</th>\n",
       "      <td>3</td>\n",
       "      <td>https://m.media-amazon.com/images/I/417SThj+Sr...</td>\n",
       "      <td>276700</td>\n",
       "      <td>voltage</td>\n",
       "    </tr>\n",
       "    <tr>\n",
       "      <th>4</th>\n",
       "      <td>4</td>\n",
       "      <td>https://m.media-amazon.com/images/I/417SThj+Sr...</td>\n",
       "      <td>276700</td>\n",
       "      <td>wattage</td>\n",
       "    </tr>\n",
       "    <tr>\n",
       "      <th>...</th>\n",
       "      <td>...</td>\n",
       "      <td>...</td>\n",
       "      <td>...</td>\n",
       "      <td>...</td>\n",
       "    </tr>\n",
       "    <tr>\n",
       "      <th>83</th>\n",
       "      <td>83</td>\n",
       "      <td>https://m.media-amazon.com/images/I/81IYdOV0mV...</td>\n",
       "      <td>721522</td>\n",
       "      <td>maximum_weight_recommendation</td>\n",
       "    </tr>\n",
       "    <tr>\n",
       "      <th>84</th>\n",
       "      <td>84</td>\n",
       "      <td>https://m.media-amazon.com/images/I/81PG3ea0MO...</td>\n",
       "      <td>240413</td>\n",
       "      <td>voltage</td>\n",
       "    </tr>\n",
       "    <tr>\n",
       "      <th>85</th>\n",
       "      <td>85</td>\n",
       "      <td>https://m.media-amazon.com/images/I/81aZ2ozp1G...</td>\n",
       "      <td>805279</td>\n",
       "      <td>maximum_weight_recommendation</td>\n",
       "    </tr>\n",
       "    <tr>\n",
       "      <th>86</th>\n",
       "      <td>86</td>\n",
       "      <td>https://m.media-amazon.com/images/I/81qUmRUUTT...</td>\n",
       "      <td>603688</td>\n",
       "      <td>maximum_weight_recommendation</td>\n",
       "    </tr>\n",
       "    <tr>\n",
       "      <th>87</th>\n",
       "      <td>87</td>\n",
       "      <td>https://m.media-amazon.com/images/I/81qUmRUUTT...</td>\n",
       "      <td>603688</td>\n",
       "      <td>item_weight</td>\n",
       "    </tr>\n",
       "  </tbody>\n",
       "</table>\n",
       "<p>88 rows × 4 columns</p>\n",
       "</div>"
      ],
      "text/plain": [
       "    index                                         image_link  group_id  \\\n",
       "0       0  https://m.media-amazon.com/images/I/41-NCxNuBx...    658003   \n",
       "1       1  https://m.media-amazon.com/images/I/41-NCxNuBx...    658003   \n",
       "2       2  https://m.media-amazon.com/images/I/417NJrPEk+...    939426   \n",
       "3       3  https://m.media-amazon.com/images/I/417SThj+Sr...    276700   \n",
       "4       4  https://m.media-amazon.com/images/I/417SThj+Sr...    276700   \n",
       "..    ...                                                ...       ...   \n",
       "83     83  https://m.media-amazon.com/images/I/81IYdOV0mV...    721522   \n",
       "84     84  https://m.media-amazon.com/images/I/81PG3ea0MO...    240413   \n",
       "85     85  https://m.media-amazon.com/images/I/81aZ2ozp1G...    805279   \n",
       "86     86  https://m.media-amazon.com/images/I/81qUmRUUTT...    603688   \n",
       "87     87  https://m.media-amazon.com/images/I/81qUmRUUTT...    603688   \n",
       "\n",
       "                      entity_name  \n",
       "0                           width  \n",
       "1                           depth  \n",
       "2   maximum_weight_recommendation  \n",
       "3                         voltage  \n",
       "4                         wattage  \n",
       "..                            ...  \n",
       "83  maximum_weight_recommendation  \n",
       "84                        voltage  \n",
       "85  maximum_weight_recommendation  \n",
       "86  maximum_weight_recommendation  \n",
       "87                    item_weight  \n",
       "\n",
       "[88 rows x 4 columns]"
      ]
     },
     "execution_count": 4,
     "metadata": {},
     "output_type": "execute_result"
    }
   ],
   "source": [
    "sample_test"
   ]
  },
  {
   "cell_type": "code",
   "execution_count": 5,
   "id": "dbdea90b",
   "metadata": {},
   "outputs": [
    {
     "ename": "ModuleNotFoundError",
     "evalue": "No module named 'constants'",
     "output_type": "error",
     "traceback": [
      "\u001b[1;31m---------------------------------------------------------------------------\u001b[0m",
      "\u001b[1;31mModuleNotFoundError\u001b[0m                       Traceback (most recent call last)",
      "Cell \u001b[1;32mIn[5], line 6\u001b[0m\n\u001b[0;32m      4\u001b[0m \u001b[38;5;28;01mimport\u001b[39;00m \u001b[38;5;21;01mpytesseract\u001b[39;00m\n\u001b[0;32m      5\u001b[0m \u001b[38;5;28;01mimport\u001b[39;00m \u001b[38;5;21;01mre\u001b[39;00m\n\u001b[1;32m----> 6\u001b[0m \u001b[38;5;28;01mfrom\u001b[39;00m \u001b[38;5;21;01msrc\u001b[39;00m\u001b[38;5;21;01m.\u001b[39;00m\u001b[38;5;21;01mutils\u001b[39;00m \u001b[38;5;28;01mimport\u001b[39;00m download_images\n\u001b[0;32m      7\u001b[0m \u001b[38;5;28;01mfrom\u001b[39;00m \u001b[38;5;21;01msrc\u001b[39;00m\u001b[38;5;21;01m.\u001b[39;00m\u001b[38;5;21;01mconstants\u001b[39;00m \u001b[38;5;28;01mimport\u001b[39;00m ALLOWED_UNITS\n\u001b[0;32m      9\u001b[0m \u001b[38;5;66;03m# Function to extract text from an image\u001b[39;00m\n",
      "File \u001b[1;32md:\\Download\\Gunjit_IIT BHU Downloads\\Amazon ML Challnge\\student_resource 3\\src\\utils.py:2\u001b[0m\n\u001b[0;32m      1\u001b[0m \u001b[38;5;28;01mimport\u001b[39;00m \u001b[38;5;21;01mre\u001b[39;00m\n\u001b[1;32m----> 2\u001b[0m \u001b[38;5;28;01mimport\u001b[39;00m \u001b[38;5;21;01mconstants\u001b[39;00m\n\u001b[0;32m      3\u001b[0m \u001b[38;5;28;01mimport\u001b[39;00m \u001b[38;5;21;01mos\u001b[39;00m\n\u001b[0;32m      4\u001b[0m \u001b[38;5;28;01mimport\u001b[39;00m \u001b[38;5;21;01mrequests\u001b[39;00m\n",
      "\u001b[1;31mModuleNotFoundError\u001b[0m: No module named 'constants'"
     ]
    }
   ],
   "source": [
    "import os\n",
    "import pandas as pd\n",
    "from PIL import Image\n",
    "import pytesseract\n",
    "import re\n",
    "from src.utils import download_images\n",
    "from src.constants import ALLOWED_UNITS\n",
    "\n",
    "# Function to extract text from an image\n",
    "def extract_text_from_image(image_path):\n",
    "    try:\n",
    "        img = Image.open(image_path)\n",
    "        text = pytesseract.image_to_string(img)\n",
    "        return text\n",
    "    except Exception as e:\n",
    "        print(f\"Error processing {image_path}: {e}\")\n",
    "        return \"\"\n",
    "\n",
    "# Function to extract entity value from text\n",
    "def extract_entity_value(text, entity_name):\n",
    "    float_pattern = r'(\\d+(\\.\\d+)?)'\n",
    "    units_pattern = '|'.join(ALLOWED_UNITS[entity_name])\n",
    "    \n",
    "    match = re.search(f'{float_pattern} ({units_pattern})', text)\n",
    "    if match:\n",
    "        return f\"{match.group(1)} {match.group(3)}\"\n",
    "    return \"\"\n",
    "\n",
    "# Function to get image file name from image link\n",
    "def get_image_filename(image_link):\n",
    "    return os.path.basename(image_link)\n",
    "\n",
    "# Generate predictions\n",
    "def generate_predictions(sample_test):\n",
    "    predictions = []\n",
    "    for _, row in sample_test.iterrows():\n",
    "        image_link = row['image_link']\n",
    "        image_name = get_image_filename(image_link)  # Extract file name from image link\n",
    "        image_path = f\"images/test/{image_name}\"\n",
    "        \n",
    "        # Extract text from image\n",
    "        text = extract_text_from_image(image_path)\n",
    "        \n",
    "        # Extract entity value from text\n",
    "        entity_value = extract_entity_value(text, row['entity_name'])\n",
    "        \n",
    "        # Append the result\n",
    "        predictions.append([row['index'], entity_value])\n",
    "    \n",
    "    return predictions\n",
    "\n",
    "# Download test images (use provided function)\n",
    "download_images(sample_test[\"image_link\"], \"images/test/\")\n",
    "\n",
    "# Generate predictions for test data\n",
    "predictions = generate_predictions(sample_test)\n",
    "\n",
    "# Convert to DataFrame and save as CSV\n",
    "output_df = pd.DataFrame(predictions, columns=['index', 'prediction'])\n",
    "output_df.to_csv(\"output.csv\", index=False)\n",
    "\n",
    "# Sanity check\n",
    "os.system('python src/sanity.py --file output.csv')\n"
   ]
  },
  {
   "cell_type": "code",
   "execution_count": null,
   "id": "1ba3d802",
   "metadata": {},
   "outputs": [],
   "source": [
    "from PIL import Image\n",
    "import pytesseract\n",
    "\n",
    "# Function to extract text from an image\n",
    "def extract_text_from_image(image_path):\n",
    "    try:\n",
    "        img = Image.open(image_path)\n",
    "        text = pytesseract.image_to_string(img)\n",
    "        return text\n",
    "    except Exception as e:\n",
    "        print(f\"Error processing {image_path}: {e}\")\n",
    "        return \"\"\n"
   ]
  },
  {
   "cell_type": "code",
   "execution_count": null,
   "id": "6c38a641",
   "metadata": {},
   "outputs": [],
   "source": [
    "import re\n",
    "\n",
    "def extract_entity_value(text, entity_name):\n",
    "    # Define the patterns to capture float numbers and units\n",
    "    float_pattern = r'(\\d+(\\.\\d+)?)'\n",
    "    \n",
    "    # Use constants.py to load the allowed units\n",
    "    from src.constants import ALLOWED_UNITS  # Assuming ALLOWED_UNITS is a dict mapping entity names to valid units\n",
    "    \n",
    "    units_pattern = '|'.join(ALLOWED_UNITS[entity_name])\n",
    "    \n",
    "    # Find the first match of number and unit in the text\n",
    "    match = re.search(f'{float_pattern} ({units_pattern})', text)\n",
    "    if match:\n",
    "        return f\"{match.group(1)} {match.group(3)}\"\n",
    "    return \"\"\n"
   ]
  },
  {
   "cell_type": "code",
   "execution_count": null,
   "id": "ceccb5e7",
   "metadata": {},
   "outputs": [],
   "source": [
    "def generate_predictions(test_df):\n",
    "    predictions = []\n",
    "    for idx, row in test_df.iterrows():\n",
    "        image_path = f\"images/test/{idx}.jpg\"\n",
    "        text = extract_text_from_image(image_path)\n",
    "        entity_value = extract_entity_value(text, row['entity_name'])\n",
    "        predictions.append([row['index'], entity_value])\n",
    "    return predictions\n",
    "\n",
    "# Generate predictions for test data\n",
    "predictions = generate_predictions(sample_test)\n",
    "\n",
    "# Convert to DataFrame and save as CSV\n",
    "output_df = pd.DataFrame(predictions, columns=['index', 'prediction'])\n",
    "output_df.to_csv(\"output.csv\", index=False)\n"
   ]
  },
  {
   "cell_type": "code",
   "execution_count": null,
   "id": "802ef092",
   "metadata": {},
   "outputs": [],
   "source": []
  }
 ],
 "metadata": {
  "kernelspec": {
   "display_name": "Python 3",
   "language": "python",
   "name": "python3"
  },
  "language_info": {
   "codemirror_mode": {
    "name": "ipython",
    "version": 3
   },
   "file_extension": ".py",
   "mimetype": "text/x-python",
   "name": "python",
   "nbconvert_exporter": "python",
   "pygments_lexer": "ipython3",
   "version": "3.12.1"
  }
 },
 "nbformat": 4,
 "nbformat_minor": 5
}
