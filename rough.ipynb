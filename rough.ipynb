{
 "cells": [
  {
   "cell_type": "code",
   "execution_count": 44,
   "metadata": {},
   "outputs": [],
   "source": [
    "import numpy as np\n",
    "import pandas as pd\n",
    "import matplotlib.pyplot as plt\n",
    "import os"
   ]
  },
  {
   "cell_type": "code",
   "execution_count": 45,
   "metadata": {},
   "outputs": [],
   "source": [
    "DATASET_FOLDER = 'D:/Download/Gunjit_IIT BHU Downloads/Amazon ML Challnge/student_resource 3/dataset/'\n",
    "train = pd.read_csv(os.path.join(DATASET_FOLDER, 'train.csv'))\n",
    "test = pd.read_csv(os.path.join(DATASET_FOLDER, 'test.csv'))\n",
    "sample_test = pd.read_csv(os.path.join(DATASET_FOLDER, 'sample_test.csv'))\n",
    "sample_test_out = pd.read_csv(os.path.join(DATASET_FOLDER, 'sample_test_out.csv'))"
   ]
  },
  {
   "cell_type": "code",
   "execution_count": 46,
   "metadata": {},
   "outputs": [
    {
     "data": {
      "text/html": [
       "<div>\n",
       "<style scoped>\n",
       "    .dataframe tbody tr th:only-of-type {\n",
       "        vertical-align: middle;\n",
       "    }\n",
       "\n",
       "    .dataframe tbody tr th {\n",
       "        vertical-align: top;\n",
       "    }\n",
       "\n",
       "    .dataframe thead th {\n",
       "        text-align: right;\n",
       "    }\n",
       "</style>\n",
       "<table border=\"1\" class=\"dataframe\">\n",
       "  <thead>\n",
       "    <tr style=\"text-align: right;\">\n",
       "      <th></th>\n",
       "      <th>index</th>\n",
       "      <th>image_link</th>\n",
       "      <th>group_id</th>\n",
       "      <th>entity_name</th>\n",
       "    </tr>\n",
       "  </thead>\n",
       "  <tbody>\n",
       "    <tr>\n",
       "      <th>0</th>\n",
       "      <td>0</td>\n",
       "      <td>https://m.media-amazon.com/images/I/41-NCxNuBx...</td>\n",
       "      <td>658003</td>\n",
       "      <td>width</td>\n",
       "    </tr>\n",
       "    <tr>\n",
       "      <th>1</th>\n",
       "      <td>1</td>\n",
       "      <td>https://m.media-amazon.com/images/I/41-NCxNuBx...</td>\n",
       "      <td>658003</td>\n",
       "      <td>depth</td>\n",
       "    </tr>\n",
       "    <tr>\n",
       "      <th>2</th>\n",
       "      <td>2</td>\n",
       "      <td>https://m.media-amazon.com/images/I/417NJrPEk+...</td>\n",
       "      <td>939426</td>\n",
       "      <td>maximum_weight_recommendation</td>\n",
       "    </tr>\n",
       "    <tr>\n",
       "      <th>3</th>\n",
       "      <td>3</td>\n",
       "      <td>https://m.media-amazon.com/images/I/417SThj+Sr...</td>\n",
       "      <td>276700</td>\n",
       "      <td>voltage</td>\n",
       "    </tr>\n",
       "    <tr>\n",
       "      <th>4</th>\n",
       "      <td>4</td>\n",
       "      <td>https://m.media-amazon.com/images/I/417SThj+Sr...</td>\n",
       "      <td>276700</td>\n",
       "      <td>wattage</td>\n",
       "    </tr>\n",
       "    <tr>\n",
       "      <th>...</th>\n",
       "      <td>...</td>\n",
       "      <td>...</td>\n",
       "      <td>...</td>\n",
       "      <td>...</td>\n",
       "    </tr>\n",
       "    <tr>\n",
       "      <th>83</th>\n",
       "      <td>83</td>\n",
       "      <td>https://m.media-amazon.com/images/I/81IYdOV0mV...</td>\n",
       "      <td>721522</td>\n",
       "      <td>maximum_weight_recommendation</td>\n",
       "    </tr>\n",
       "    <tr>\n",
       "      <th>84</th>\n",
       "      <td>84</td>\n",
       "      <td>https://m.media-amazon.com/images/I/81PG3ea0MO...</td>\n",
       "      <td>240413</td>\n",
       "      <td>voltage</td>\n",
       "    </tr>\n",
       "    <tr>\n",
       "      <th>85</th>\n",
       "      <td>85</td>\n",
       "      <td>https://m.media-amazon.com/images/I/81aZ2ozp1G...</td>\n",
       "      <td>805279</td>\n",
       "      <td>maximum_weight_recommendation</td>\n",
       "    </tr>\n",
       "    <tr>\n",
       "      <th>86</th>\n",
       "      <td>86</td>\n",
       "      <td>https://m.media-amazon.com/images/I/81qUmRUUTT...</td>\n",
       "      <td>603688</td>\n",
       "      <td>maximum_weight_recommendation</td>\n",
       "    </tr>\n",
       "    <tr>\n",
       "      <th>87</th>\n",
       "      <td>87</td>\n",
       "      <td>https://m.media-amazon.com/images/I/81qUmRUUTT...</td>\n",
       "      <td>603688</td>\n",
       "      <td>item_weight</td>\n",
       "    </tr>\n",
       "  </tbody>\n",
       "</table>\n",
       "<p>88 rows × 4 columns</p>\n",
       "</div>"
      ],
      "text/plain": [
       "    index                                         image_link  group_id  \\\n",
       "0       0  https://m.media-amazon.com/images/I/41-NCxNuBx...    658003   \n",
       "1       1  https://m.media-amazon.com/images/I/41-NCxNuBx...    658003   \n",
       "2       2  https://m.media-amazon.com/images/I/417NJrPEk+...    939426   \n",
       "3       3  https://m.media-amazon.com/images/I/417SThj+Sr...    276700   \n",
       "4       4  https://m.media-amazon.com/images/I/417SThj+Sr...    276700   \n",
       "..    ...                                                ...       ...   \n",
       "83     83  https://m.media-amazon.com/images/I/81IYdOV0mV...    721522   \n",
       "84     84  https://m.media-amazon.com/images/I/81PG3ea0MO...    240413   \n",
       "85     85  https://m.media-amazon.com/images/I/81aZ2ozp1G...    805279   \n",
       "86     86  https://m.media-amazon.com/images/I/81qUmRUUTT...    603688   \n",
       "87     87  https://m.media-amazon.com/images/I/81qUmRUUTT...    603688   \n",
       "\n",
       "                      entity_name  \n",
       "0                           width  \n",
       "1                           depth  \n",
       "2   maximum_weight_recommendation  \n",
       "3                         voltage  \n",
       "4                         wattage  \n",
       "..                            ...  \n",
       "83  maximum_weight_recommendation  \n",
       "84                        voltage  \n",
       "85  maximum_weight_recommendation  \n",
       "86  maximum_weight_recommendation  \n",
       "87                    item_weight  \n",
       "\n",
       "[88 rows x 4 columns]"
      ]
     },
     "execution_count": 46,
     "metadata": {},
     "output_type": "execute_result"
    }
   ],
   "source": [
    "sample_test"
   ]
  },
  {
   "cell_type": "code",
   "execution_count": 47,
   "metadata": {},
   "outputs": [
    {
     "data": {
      "text/plain": [
       "0            21.9 foot\n",
       "1              10 foot\n",
       "2                  NaN\n",
       "3      289.52 kilovolt\n",
       "4     1078.99 kilowatt\n",
       "            ...       \n",
       "83                 NaN\n",
       "84                 NaN\n",
       "85           500 pound\n",
       "86        354.58 pound\n",
       "87                 NaN\n",
       "Name: prediction, Length: 88, dtype: object"
      ]
     },
     "execution_count": 47,
     "metadata": {},
     "output_type": "execute_result"
    }
   ],
   "source": [
    "sample_test_out['prediction']"
   ]
  },
  {
   "cell_type": "code",
   "execution_count": 49,
   "metadata": {},
   "outputs": [
    {
     "name": "stderr",
     "output_type": "stream",
     "text": [
      "  0%|          | 0/88 [00:00<?, ?it/s]"
     ]
    }
   ],
   "source": [
    "import sys\n",
    "sys.path.append('D:\\\\Download\\\\Gunjit_IIT BHU Downloads\\\\Amazon ML Challnge\\\\student_resource 3\\\\src\\\\')  # Example: 'src/'\n",
    "from utils import download_images\n",
    "import pandas as pd\n",
    "\n",
    "# Load the test dataset\n",
    "test_df = pd.read_csv('D:\\\\Download\\\\Gunjit_IIT BHU Downloads\\\\Amazon ML Challnge\\\\student_resource 3\\\\dataset\\\\sample_test.csv')\n",
    "\n",
    "# Extract image links\n",
    "image_links = test_df['image_link'].tolist()\n",
    "\n",
    "# Specify the folder where images will be saved\n",
    "download_folder = 'D:\\\\Download\\\\Gunjit_IIT BHU Downloads\\\\Amazon ML Challnge\\\\Images'\n",
    "\n",
    "# Download images\n",
    "download_images(image_links, download_folder)\n"
   ]
  },
  {
   "cell_type": "code",
   "execution_count": null,
   "metadata": {},
   "outputs": [],
   "source": []
  }
 ],
 "metadata": {
  "kernelspec": {
   "display_name": "Python 3",
   "language": "python",
   "name": "python3"
  },
  "language_info": {
   "codemirror_mode": {
    "name": "ipython",
    "version": 3
   },
   "file_extension": ".py",
   "mimetype": "text/x-python",
   "name": "python",
   "nbconvert_exporter": "python",
   "pygments_lexer": "ipython3",
   "version": "3.12.1"
  }
 },
 "nbformat": 4,
 "nbformat_minor": 2
}
